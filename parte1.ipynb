{
 "cells": [
  {
   "cell_type": "markdown",
   "metadata": {},
   "source": [
    "# Enunciado\n",
    "Parte 1: Manipulação de Dados\n",
    "Criação de DataFrame\n",
    "Crie um DataFrame a partir do seguinte conjunto de dados:\n",
    "data = [\n",
    "    (\"Alice\", 34, \"Data Scientist\"),\n",
    "    (\"Bob\", 45, \"Data Engineer\"),\n",
    "    (\"Cathy\", 29, \"Data Analyst\"),\n",
    "    (\"David\", 35, \"Data Scientist\")\n",
    "]\n",
    "columns = [\"Name\", \"Age\", \"Occupation\"]\n",
    "Filtragem e Seleção\n",
    "Selecione apenas as colunas \"Name\" e \"Age\" do DataFrame criado.\n",
    "Filtre as linhas onde a \"Age\" é maior que 30.\n",
    "Agrupamento e Agregação\n",
    "Agrupe os dados pelo campo \"Occupation\" e calcule a média de \"Age\" para cada grupo.\n",
    "Ordenação\n",
    "Ordene o DataFrame resultante da questão anterior pela média de \"Age\" em ordem decrescente."
   ]
  },
  {
   "cell_type": "code",
   "execution_count": 11,
   "metadata": {},
   "outputs": [
    {
     "name": "stderr",
     "output_type": "stream",
     "text": [
      "                                                                                \r"
     ]
    },
    {
     "name": "stdout",
     "output_type": "stream",
     "text": [
      "+-----+---+--------------+\n",
      "| Name|Age|    Occupation|\n",
      "+-----+---+--------------+\n",
      "|Alice| 34|Data Scientist|\n",
      "|  Bob| 45| Data Engineer|\n",
      "|Cathy| 29|  Data Analyst|\n",
      "|David| 35|Data Scientist|\n",
      "+-----+---+--------------+\n",
      "\n"
     ]
    }
   ],
   "source": [
    "# Criação do DataFrame\n",
    "from pyspark.sql import SparkSession\n",
    "from pyspark.sql.functions import avg, col\n",
    "\n",
    "# Inicializando a SparkSession\n",
    "spark = SparkSession.builder.appName(\"Data Engineer Test\").getOrCreate()\n",
    "\n",
    "# Inicialização das variaveis\n",
    "data = [\n",
    "    (\"Alice\", 34, \"Data Scientist\"),\n",
    "    (\"Bob\", 45, \"Data Engineer\"),\n",
    "    (\"Cathy\", 29, \"Data Analyst\"),\n",
    "    (\"David\", 35, \"Data Scientist\")\n",
    "]\n",
    "columns = [\"Name\", \"Age\", \"Occupation\"]\n",
    "\n",
    "# Criando o DataFrame\n",
    "df = spark.createDataFrame(data, schema=columns)\n",
    "\n",
    "df.show()\n"
   ]
  },
  {
   "cell_type": "code",
   "execution_count": 12,
   "metadata": {},
   "outputs": [
    {
     "name": "stdout",
     "output_type": "stream",
     "text": [
      "+-----+---+\n",
      "| Name|Age|\n",
      "+-----+---+\n",
      "|Alice| 34|\n",
      "|  Bob| 45|\n",
      "|David| 35|\n",
      "+-----+---+\n",
      "\n"
     ]
    }
   ],
   "source": [
    "# Filtragem e Seleção\n",
    "\n",
    "# Selecionando as colunas 'Name' e 'Age'\n",
    "selected_df = df.select(\"Name\", \"Age\")\n",
    "\n",
    "# Filtrando as linhas onde a 'Age' é maior que 30\n",
    "filtered_df = selected_df.filter(col(\"Age\") > 30)\n",
    "\n",
    "filtered_df.show()\n"
   ]
  },
  {
   "cell_type": "code",
   "execution_count": 13,
   "metadata": {},
   "outputs": [
    {
     "name": "stderr",
     "output_type": "stream",
     "text": [
      "[Stage 9:=============================>                             (4 + 4) / 8]\r"
     ]
    },
    {
     "name": "stdout",
     "output_type": "stream",
     "text": [
      "+--------------+-----------+\n",
      "|    Occupation|Average Age|\n",
      "+--------------+-----------+\n",
      "| Data Engineer|       45.0|\n",
      "|Data Scientist|       34.5|\n",
      "|  Data Analyst|       29.0|\n",
      "+--------------+-----------+\n",
      "\n"
     ]
    },
    {
     "name": "stderr",
     "output_type": "stream",
     "text": [
      "                                                                                \r"
     ]
    }
   ],
   "source": [
    "# Agrupamento e ordenação.\n",
    "\n",
    "# Agrupando os dados por 'Occupation' e calculando a média de 'Age'\n",
    "grouped_df = df.groupBy(\"Occupation\").agg(avg(\"Age\").alias(\"Average Age\"))\n",
    "\n",
    "# Ordenando o DataFrame pelo 'Average Age' em ordem decrescente\n",
    "ordered_df = grouped_df.orderBy(col(\"Average Age\"), ascending=False)\n",
    "\n",
    "# Exibindo o resultado final\n",
    "ordered_df.show()"
   ]
  }
 ],
 "metadata": {
  "kernelspec": {
   "display_name": "Python 3",
   "language": "python",
   "name": "python3"
  },
  "language_info": {
   "codemirror_mode": {
    "name": "ipython",
    "version": 3
   },
   "file_extension": ".py",
   "mimetype": "text/x-python",
   "name": "python",
   "nbconvert_exporter": "python",
   "pygments_lexer": "ipython3",
   "version": "3.10.12"
  }
 },
 "nbformat": 4,
 "nbformat_minor": 2
}
