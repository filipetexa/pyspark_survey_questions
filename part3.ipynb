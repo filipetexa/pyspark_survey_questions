{
 "cells": [
  {
   "cell_type": "markdown",
   "metadata": {},
   "source": [
    "# Enunciado\n",
    "\n",
    "Parte 3: Performance e Otimização\n",
    "Particionamento\n",
    "Explique como o particionamento pode ser usado para melhorar a performance em operações de leitura e escrita de dados em PySpark. Dê um exemplo de código que particiona um DataFrame por uma coluna específica.\n",
    "Broadcast Join\n",
    "Descreva o conceito de Broadcast Join em PySpark e como ele pode ser usado para otimizar operações de join. Implemente um exemplo de Broadcast Join entre dois DataFrames."
   ]
  },
  {
   "cell_type": "markdown",
   "metadata": {},
   "source": [
    "## Particionamento.\n",
    "Porque o particionamento é importante para o processamento de dados utilizando o PySpark?\n",
    "Bom, para respoder essa pergunda precisamos lembrar que a arquitetura do Spark foi pensada para dividir o processamento de tarefas em seus workers multicluster. Sendo assim, quando fazemos o particionamento de um conjunto de dados, damos ao Spark a possibilidade de dividir o processamento em multiplos nós de um cluster. Porem é importante realizar um particionamento eficiente para que seja possivel minimizar a transferência de dados durante as operações, e assim almentar a performance e minimizar o uso de rede.\n",
    "\n",
    "### Exemplo de implementação de particionamento:"
   ]
  },
  {
   "cell_type": "code",
   "execution_count": null,
   "metadata": {},
   "outputs": [],
   "source": [
    "from pyspark.sql import SparkSession\n",
    "\n",
    "# Inicializando a SparkSession\n",
    "spark = SparkSession.builder.appName(\"Particionamento Exemplo\").getOrCreate()\n",
    "\n",
    "# Inicialização das variaveis\n",
    "data = [\n",
    "    (\"Alice\", 34, \"Data Scientist\"),\n",
    "    (\"Bob\", 45, \"Data Engineer\"),\n",
    "    (\"Cathy\", 29, \"Data Analyst\"),\n",
    "    (\"David\", 35, \"Data Scientist\")\n",
    "]\n",
    "columns = [\"Name\", \"Age\", \"Occupation\"]\n",
    "\n",
    "# Criando o DataFrame\n",
    "df = spark.createDataFrame(data, schema=columns)\n",
    "\n",
    "# Particionando o DataFrame por 'Occupation'\n",
    "partitioned_df = df.repartition(\"Occupation\")\n"
   ]
  },
  {
   "cell_type": "markdown",
   "metadata": {},
   "source": [
    "## Broadcast Join\n",
    "O que é Broadcast Join?\n",
    "O Broadcast Join é uma tecnica utilizada quando um dos dataframes é suficientemente pequeno para ser carregado na memoria de todos os nós do cluster. Se essa requisito for cumprido, podemos eviar para todos os nós o dataframe completo e realizar o Join simutaneamente internamente, diminuindo assim latencia, transferencia de dados e consumo de rede. \n"
   ]
  },
  {
   "cell_type": "code",
   "execution_count": 9,
   "metadata": {},
   "outputs": [
    {
     "name": "stdout",
     "output_type": "stream",
     "text": [
      "+-------+---+---+----------+\n",
      "|   Nome| ID| ID|NameDepart|\n",
      "+-------+---+---+----------+\n",
      "|  Alice|  1|  1|        HR|\n",
      "|    Bob|  2|  2| Marketing|\n",
      "|Charlie|  3|  3|Financeiro|\n",
      "+-------+---+---+----------+\n",
      "\n"
     ]
    }
   ],
   "source": [
    "from pyspark.sql.functions import broadcast\n",
    "\n",
    "# Criando o DataFrame \"grande\" (df_large) \n",
    "data_large = [(\"Alice\", 1), (\"Bob\", 2), (\"Charlie\", 3), (\"David\", 4)]\n",
    "columns_large = [\"Nome\", \"ID\"]\n",
    "df_large = spark.createDataFrame(data_large, schema=columns_large)\n",
    "\n",
    "# Criando o DataFrame pequeno (df_small)\n",
    "data_small = [(1, \"HR\"), (2, \"Marketing\"), (3, \"Financeiro\")]\n",
    "columns_small = [\"ID\", \"NameDepart\"]\n",
    "df_small = spark.createDataFrame(data_small, schema=columns_small)\n",
    "\n",
    "# Realizando um Broadcast Join\n",
    "joined_df = df_large.join(broadcast(df_small), df_large[\"ID\"] == df_small[\"ID\"])\n",
    "\n",
    "# Mostrando o resultado do join\n",
    "joined_df.show()"
   ]
  }
 ],
 "metadata": {
  "kernelspec": {
   "display_name": "Python 3",
   "language": "python",
   "name": "python3"
  },
  "language_info": {
   "codemirror_mode": {
    "name": "ipython",
    "version": 3
   },
   "file_extension": ".py",
   "mimetype": "text/x-python",
   "name": "python",
   "nbconvert_exporter": "python",
   "pygments_lexer": "ipython3",
   "version": "3.10.12"
  }
 },
 "nbformat": 4,
 "nbformat_minor": 2
}
