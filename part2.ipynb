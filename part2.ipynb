{
 "cells": [
  {
   "cell_type": "markdown",
   "metadata": {},
   "source": [
    "# Enunciado\n",
    "\n",
    "Parte 2: Funções Avançadas\n",
    "Uso de UDFs (User Defined Functions)\n",
    "Crie uma função em Python que converte idades para categorias:\n",
    "Menor que 30: \"Jovem\"\n",
    "Entre 30 e 40: \"Adulto\"\n",
    "Maior que 40: \"Senior\"\n",
    "Aplique essa função ao DataFrame usando uma UDF.\n",
    "Funções de Janela\n",
    "Use funções de janela para adicionar uma coluna que mostre a diferença de idade entre cada indivíduo e a média de idade do seu \"Occupation\"."
   ]
  },
  {
   "cell_type": "code",
   "execution_count": 5,
   "metadata": {},
   "outputs": [
    {
     "name": "stdout",
     "output_type": "stream",
     "text": [
      "+-----+---+--------------+\n",
      "| Name|Age|    Occupation|\n",
      "+-----+---+--------------+\n",
      "|Alice| 34|Data Scientist|\n",
      "|  Bob| 45| Data Engineer|\n",
      "|Cathy| 29|  Data Analyst|\n",
      "|David| 35|Data Scientist|\n",
      "+-----+---+--------------+\n",
      "\n"
     ]
    }
   ],
   "source": [
    "# Criação do DataFrame e importações dos modulos\n",
    "from pyspark.sql import SparkSession\n",
    "from pyspark.sql.functions import avg, col\n",
    "from pyspark.sql.window import Window\n",
    "from pyspark.sql.functions import mean\n",
    "\n",
    "# Inicializando a SparkSession\n",
    "spark = SparkSession.builder.appName(\"Data Engineer Test\").getOrCreate()\n",
    "\n",
    "# Inicialização das variaveis\n",
    "data = [\n",
    "    (\"Alice\", 34, \"Data Scientist\"),\n",
    "    (\"Bob\", 45, \"Data Engineer\"),\n",
    "    (\"Cathy\", 29, \"Data Analyst\"),\n",
    "    (\"David\", 35, \"Data Scientist\")\n",
    "]\n",
    "columns = [\"Name\", \"Age\", \"Occupation\"]\n",
    "\n",
    "# Criando o DataFrame\n",
    "df = spark.createDataFrame(data, schema=columns)\n",
    "\n",
    "df.show()\n"
   ]
  },
  {
   "cell_type": "code",
   "execution_count": 6,
   "metadata": {},
   "outputs": [
    {
     "name": "stdout",
     "output_type": "stream",
     "text": [
      "Adulto\n"
     ]
    }
   ],
   "source": [
    "# Criação da função\n",
    "def convert_age_to_category(age):\n",
    "    # Define a categoria com base na idade\n",
    "    if age < 30:\n",
    "        category = 'Jovem'\n",
    "    elif  age >= 30 or age <= 40:\n",
    "        category = 'Adulto'\n",
    "    elif age > 40:\n",
    "        category = 'Senior'\n",
    "    \n",
    "    return category\n",
    "\n",
    "print(convert_age_to_category(30))"
   ]
  },
  {
   "cell_type": "code",
   "execution_count": 7,
   "metadata": {},
   "outputs": [
    {
     "name": "stderr",
     "output_type": "stream",
     "text": [
      "                                                                                \r"
     ]
    },
    {
     "name": "stdout",
     "output_type": "stream",
     "text": [
      "+-----+---+--------------+------------+\n",
      "| Name|Age|    Occupation|Age Category|\n",
      "+-----+---+--------------+------------+\n",
      "|Alice| 34|Data Scientist|      Adulto|\n",
      "|  Bob| 45| Data Engineer|      Adulto|\n",
      "|Cathy| 29|  Data Analyst|       Jovem|\n",
      "|David| 35|Data Scientist|      Adulto|\n",
      "+-----+---+--------------+------------+\n",
      "\n"
     ]
    },
    {
     "name": "stderr",
     "output_type": "stream",
     "text": [
      "                                                                                \r"
     ]
    }
   ],
   "source": [
    "# Utilizando a UDF com o Spark\n",
    "from pyspark.sql.functions import udf\n",
    "from pyspark.sql.types import StringType\n",
    "\n",
    "# Registrando a função como UDF\n",
    "age_category_udf = udf(convert_age_to_category, StringType())\n",
    "\n",
    "# Aplicando a UDF ao DataFrame\n",
    "df_with_category = df.withColumn(\"Age Category\", age_category_udf(col(\"Age\")))\n",
    "\n",
    "\n",
    "df_with_category.show()"
   ]
  },
  {
   "cell_type": "code",
   "execution_count": 9,
   "metadata": {},
   "outputs": [
    {
     "name": "stderr",
     "output_type": "stream",
     "text": [
      "[Stage 15:===========================================>              (6 + 2) / 8]\r"
     ]
    },
    {
     "name": "stdout",
     "output_type": "stream",
     "text": [
      "+-----+---+--------------+--------+--------------+\n",
      "| Name|Age|    Occupation|Mean Age|Age Difference|\n",
      "+-----+---+--------------+--------+--------------+\n",
      "|Cathy| 29|  Data Analyst|    29.0|           0.0|\n",
      "|  Bob| 45| Data Engineer|    45.0|           0.0|\n",
      "|Alice| 34|Data Scientist|    34.5|          -0.5|\n",
      "|David| 35|Data Scientist|    34.5|           0.5|\n",
      "+-----+---+--------------+--------+--------------+\n",
      "\n"
     ]
    },
    {
     "name": "stderr",
     "output_type": "stream",
     "text": [
      "                                                                                \r"
     ]
    }
   ],
   "source": [
    "# Utilizando as Funções de Janela\n",
    "\n",
    "# Definindo a janela de partição por 'Occupation'\n",
    "window = Window.partitionBy(\"Occupation\")\n",
    "\n",
    "# Calculando a média de idade por ocupação e adicionando como nova coluna\n",
    "df_with_mean_age = df.withColumn(\"Mean Age\", mean(col(\"Age\")).over(window))\n",
    "\n",
    "# Calculando a diferença entre a idade de cada indivíduo e a média de idade da sua ocupação\n",
    "df_with_age_difference = df_with_mean_age.withColumn(\"Age Difference\", col(\"Age\") - col(\"Mean Age\"))\n",
    "\n",
    "\n",
    "df_with_age_difference.show()"
   ]
  }
 ],
 "metadata": {
  "kernelspec": {
   "display_name": "Python 3",
   "language": "python",
   "name": "python3"
  },
  "language_info": {
   "codemirror_mode": {
    "name": "ipython",
    "version": 3
   },
   "file_extension": ".py",
   "mimetype": "text/x-python",
   "name": "python",
   "nbconvert_exporter": "python",
   "pygments_lexer": "ipython3",
   "version": "3.10.12"
  }
 },
 "nbformat": 4,
 "nbformat_minor": 2
}
