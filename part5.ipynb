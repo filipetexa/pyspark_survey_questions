{
 "cells": [
  {
   "cell_type": "markdown",
   "metadata": {},
   "source": [
    "# Enunciado\n",
    "\n",
    "Parte 5: Problema de Caso\n",
    "Processamento de Logs\n",
    "Considere que você tem um grande arquivo de log com as seguintes colunas: \"timestamp\", \"user_id\", \"action\". Cada linha representa uma ação realizada por um usuário em um determinado momento.\n",
    "Carregue o arquivo de log em um DataFrame.\n",
    "Conte o número de ações realizadas por cada usuário.\n",
    "Encontre os 10 usuários mais ativos.\n",
    "Salve o resultado em um arquivo CSV."
   ]
  },
  {
   "cell_type": "code",
   "execution_count": 5,
   "metadata": {},
   "outputs": [
    {
     "name": "stdout",
     "output_type": "stream",
     "text": [
      "+---------+-----+\n",
      "|  user_id|count|\n",
      "+---------+-----+\n",
      "| usuario2|   24|\n",
      "| usuario1|   16|\n",
      "| usuario8|    4|\n",
      "| usuario7|    4|\n",
      "| usuario9|    4|\n",
      "|usuario10|    4|\n",
      "|usuario12|    4|\n",
      "|usuario11|    4|\n",
      "|usuario16|    3|\n",
      "| usuario3|    3|\n",
      "+---------+-----+\n",
      "\n"
     ]
    }
   ],
   "source": [
    "from pyspark.sql import SparkSession\n",
    "from pyspark.sql.functions import avg, col\n",
    "\n",
    "\"\"\" \n",
    "Coloquei um csv de exemplo com 100 logs simulando uma \n",
    "operação de suporte de TI no diretorio de data/input/part5_ITSupportLogs.csv\n",
    "\"\"\"\n",
    "\n",
    "# Inicializando a SparkSession\n",
    "spark = SparkSession.builder.appName(\"Log Analyzer\").getOrCreate()\n",
    "\n",
    "# Caminho do arquivo CSV dentro do subdiretório 'data'\n",
    "csv_path = \"data/input/part5_ITSupportLogs.csv\"\n",
    "\n",
    "# Lendo dados do arquivo CSV\n",
    "log_df = spark.read.csv(csv_path, header=True, inferSchema=True)\n",
    "\n",
    "# Agrupando por 'user_id' e contando as ações\n",
    "action_counts = log_df.groupBy(\"user_id\").count()\n",
    "\n",
    "# Ordenando os usuários por contagem de ações em ordem decrescente\n",
    "top_10_users = action_counts.orderBy(col(\"count\").desc()).limit(10)\n",
    "\n",
    "# Exibindo os resultados\n",
    "top_10_users.show()\n",
    "\n",
    "# Encerrando a SparkSession\n",
    "spark.stop()"
   ]
  }
 ],
 "metadata": {
  "kernelspec": {
   "display_name": "Python 3",
   "language": "python",
   "name": "python3"
  },
  "language_info": {
   "codemirror_mode": {
    "name": "ipython",
    "version": 3
   },
   "file_extension": ".py",
   "mimetype": "text/x-python",
   "name": "python",
   "nbconvert_exporter": "python",
   "pygments_lexer": "ipython3",
   "version": "3.10.12"
  }
 },
 "nbformat": 4,
 "nbformat_minor": 2
}
