{
 "cells": [
  {
   "cell_type": "markdown",
   "metadata": {},
   "source": [
    "# Enunciado\n",
    "\n",
    "Parte 4: Integração com Outras Tecnologias\n",
    "Leitura e Escrita de Dados\n",
    "Demonstre como ler dados de um arquivo CSV e escrever o resultado em um formato Parquet.\n",
    "Integração com Hadoop\n",
    "Explique como PySpark se integra com o Hadoop HDFS para leitura e escrita de dados. Dê um exemplo de código que leia um arquivo do HDFS e salve o resultado de volta no HDFS."
   ]
  },
  {
   "cell_type": "markdown",
   "metadata": {},
   "source": [
    "## Integração com o Hadoop\n",
    "\n",
    "O PySpark se integra de forma eficiente com o Hadoop Distributed File System (HDFS), que é um sistema de arquivos distribuído projetado para armazenar e gerenciar grandes volumes de dados de forma escalável e confiável. A integração funciona com base na ideia de que tanto o HDFS quanto o Spark operam de forma distribuída, facilitando para o Spark acessar arquivos armazenados de maneira distribuída no HDFS. O Spark pode acessar e processar os arquivos usando os caminhos do HDFS, e também pode gravar os resultados das operações diretamente neles, sendo responsabilidade do Spark gerenciar a localização dos dados e a distribuição das tarefas de processamento. Isso inclui otimizar a localidade de dados, onde o Spark tenta processar os dados no mesmo nó onde estão armazenados, minimizando a latência e o tráfego de rede, o que aumenta a eficiência geral do processamento.\n",
    "\n",
    "## Exemplo de implementação:"
   ]
  },
  {
   "cell_type": "code",
   "execution_count": 7,
   "metadata": {},
   "outputs": [
    {
     "name": "stderr",
     "output_type": "stream",
     "text": [
      "24/08/25 12:07:19 WARN Utils: Service 'SparkUI' could not bind on port 4040. Attempting port 4041.\n"
     ]
    },
    {
     "name": "stdout",
     "output_type": "stream",
     "text": [
      "+-----+---+--------------+\n",
      "| Name|Age|    Occupation|\n",
      "+-----+---+--------------+\n",
      "|Alice| 34|Data Scientist|\n",
      "|  Bob| 45| Data Engineer|\n",
      "|Cathy| 29|  Data Analyst|\n",
      "|David| 35|Data Scientist|\n",
      "+-----+---+--------------+\n",
      "\n"
     ]
    }
   ],
   "source": [
    "from pyspark.sql import SparkSession\n",
    "\n",
    "\"\"\" \n",
    "Coloquei um csv de exemplo com os dados do df que\n",
    "estamos trabalhando nas outras partes do teste. \n",
    "\"\"\"\n",
    "\n",
    "# Inicializando a SparkSession\n",
    "spark = SparkSession.builder.appName(\"Data Read and Write Example\").getOrCreate()\n",
    "\n",
    "# Caminho do arquivo CSV dentro do subdiretório 'data'\n",
    "csv_path = \"data/input/part4_EmployeeData.csv\"\n",
    "\n",
    "# Lendo dados do arquivo CSV\n",
    "df = spark.read.csv(csv_path, header=True, inferSchema=True)\n",
    "\n",
    "# Processando os dados \n",
    "processed_df = df.select(\"*\")\n",
    "processed_df.show()\n",
    "\n",
    "# Caminho para salvar o arquivo Parquet \n",
    "parquet_path = \"data/output/\"\n",
    "\n",
    "# Escrevendo os dados processados em formato Parquet\n",
    "processed_df.write.parquet(parquet_path, mode=\"overwrite\")\n",
    "\n",
    "# Encerrando a SparkSession\n",
    "spark.stop()\n"
   ]
  }
 ],
 "metadata": {
  "kernelspec": {
   "display_name": "Python 3",
   "language": "python",
   "name": "python3"
  },
  "language_info": {
   "codemirror_mode": {
    "name": "ipython",
    "version": 3
   },
   "file_extension": ".py",
   "mimetype": "text/x-python",
   "name": "python",
   "nbconvert_exporter": "python",
   "pygments_lexer": "ipython3",
   "version": "3.10.12"
  }
 },
 "nbformat": 4,
 "nbformat_minor": 2
}
